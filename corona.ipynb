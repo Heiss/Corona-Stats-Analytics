{
 "cells": [
  {
   "cell_type": "markdown",
   "metadata": {},
   "source": [
    "# Corona Stats\n",
    "\n",
    "In this hub, i want to try to analyse the statistics about corona and find out, where the different countries are in their infections."
   ]
  },
  {
   "cell_type": "code",
   "execution_count": null,
   "metadata": {},
   "outputs": [],
   "source": []
  },
  {
   "cell_type": "code",
   "execution_count": null,
   "metadata": {},
   "outputs": [],
   "source": []
  },
  {
   "cell_type": "code",
   "execution_count": 30,
   "metadata": {},
   "outputs": [
    {
     "data": {
      "application/vnd.jupyter.widget-view+json": {
       "model_id": "170ee297a45b4448bad7551e26a081d6",
       "version_major": 2,
       "version_minor": 0
      },
      "text/plain": [
       "Canvas(toolbar=Toolbar(toolitems=[('Home', 'Reset original view', 'home', 'home'), ('Back', 'Back to previous …"
      ]
     },
     "metadata": {},
     "output_type": "display_data"
    },
    {
     "data": {
      "application/vnd.jupyter.widget-view+json": {
       "model_id": "34b434ea90af4303b7df3c66033f81ec",
       "version_major": 2,
       "version_minor": 0
      },
      "text/plain": [
       "Canvas(toolbar=Toolbar(toolitems=[('Home', 'Reset original view', 'home', 'home'), ('Back', 'Back to previous …"
      ]
     },
     "metadata": {},
     "output_type": "display_data"
    },
    {
     "data": {
      "application/vnd.jupyter.widget-view+json": {
       "model_id": "e5f1ecc8e5544cd0840a806621f00800",
       "version_major": 2,
       "version_minor": 0
      },
      "text/plain": [
       "Canvas(toolbar=Toolbar(toolitems=[('Home', 'Reset original view', 'home', 'home'), ('Back', 'Back to previous …"
      ]
     },
     "metadata": {},
     "output_type": "display_data"
    },
    {
     "data": {
      "application/vnd.jupyter.widget-view+json": {
       "model_id": "0354735db1294b8a9c57e19a14150ee5",
       "version_major": 2,
       "version_minor": 0
      },
      "text/plain": [
       "Canvas(toolbar=Toolbar(toolitems=[('Home', 'Reset original view', 'home', 'home'), ('Back', 'Back to previous …"
      ]
     },
     "metadata": {},
     "output_type": "display_data"
    }
   ],
   "source": [
    "confirmedLink = \"https://raw.githubusercontent.com/CSSEGISandData/COVID-19/master/csse_covid_19_data/csse_covid_19_time_series/time_series_19-covid-Confirmed.csv\"\n",
    "deathLink = \"https://raw.githubusercontent.com/CSSEGISandData/COVID-19/master/csse_covid_19_data/csse_covid_19_time_series/time_series_19-covid-Deaths.csv\"\n",
    "recoveredLink = \"https://raw.githubusercontent.com/CSSEGISandData/COVID-19/master/csse_covid_19_data/csse_covid_19_time_series/time_series_19-covid-Recovered.csv\"\n",
    "\n",
    "%matplotlib inline\n",
    "\n",
    "import matplotlib.pyplot as plt\n",
    "import requests\n",
    "from io import StringIO\n",
    "import csv\n",
    "import itertools\n",
    "\n",
    "confirmedString = requests.get(confirmedLink).text\n",
    "deathString = requests.get(deathLink).text\n",
    "recoveredString = requests.get(recoveredLink).text\n",
    "\n",
    "confirmedReader = csv.DictReader((StringIO(confirmedString)))\n",
    "deathReader = csv.DictReader((StringIO(deathString)))\n",
    "recoveredReader = csv.DictReader((StringIO(recoveredString)))\n",
    "\n",
    "def addList(list1, list2):\n",
    "    list3 = []\n",
    "\n",
    "    for i in range(len(list1)):\n",
    "        list3.append(int(list1[i]) + int(list2[i]))\n",
    "\n",
    "    return list3\n",
    "\n",
    "def subtractList(list1, list2):\n",
    "    list3 = []\n",
    "\n",
    "    for i in range(len(list1)):\n",
    "        list3.append(int(list1[i]) - int(list2[i]))\n",
    "\n",
    "    return list3\n",
    "\n",
    "\n",
    "def addReader(dictionary, reader):\n",
    "    for row in reader:\n",
    "        key = list(row.values())[1]\n",
    "        \n",
    "        if key in dictionary:\n",
    "            dictionary[key] = addList(dictionary[key], list(row.values())[5:])\n",
    "        else:\n",
    "            dictionary[key] = list(row.values())[5:]\n",
    "\n",
    "keys = confirmedReader.fieldnames[5:]\n",
    "\n",
    "confirmed = {}\n",
    "death = {}\n",
    "recovered = {}\n",
    "\n",
    "addReader(confirmed, confirmedReader)\n",
    "addReader(death, deathReader)\n",
    "addReader(recovered, recoveredReader)\n",
    "\n",
    "plt.figure()\n",
    "plt.title(\"Confirmed infections\")\n",
    "plt.ylabel(\"People\")\n",
    "plt.xlabel(\"Date\")\n",
    "plt.gcf().autofmt_xdate()\n",
    "values = {}\n",
    "for key, value in confirmed.items():\n",
    "    values[key] = [float(val) for val in value]\n",
    "\n",
    "for key, value in values.items():\n",
    "    plt.plot(keys, value, label=str(key))    \n",
    "\n",
    "for key, row in death.items():\n",
    "    confirmed[key] = subtractList(confirmed[key], row)\n",
    "        \n",
    "for key, row in recovered.items():\n",
    "    confirmed[key] = subtractList(confirmed[key], row)\n",
    "\n",
    "\n",
    "def plot(dictionary, title):\n",
    "    plt.figure()\n",
    "    values = {}\n",
    "    for key, value in dictionary.items():\n",
    "        values[key] = [float(val) for val in value]\n",
    "\n",
    "    for key, value in values.items():\n",
    "        plt.plot(keys, value, label=str(key))\n",
    "\n",
    "    plt.title(title)\n",
    "    plt.ylabel(\"People\")\n",
    "    plt.xlabel(\"Date\")\n",
    "    plt.gcf().autofmt_xdate()\n",
    "    #leg = plt.legend(ncol=3, mode=\"expand\", shadow=True, fancybox=True, bbox_to_anchor=(1.05, 1), loc='upper left', borderaxespad=0.)\n",
    "    #leg.get_frame().set_alpha(0.5)\n",
    "\n",
    "    #plt.show()\n",
    "\n",
    "plot(confirmed, \"currently infected\")\n",
    "plot(death, \"death\")\n",
    "plot(recovered, \"recovered\")\n"
   ]
  },
  {
   "cell_type": "markdown",
   "metadata": {},
   "source": [
    "# An overview over all confirmed patients\n",
    "confirmed patient := confirmed - death - recovered"
   ]
  },
  {
   "cell_type": "code",
   "execution_count": 31,
   "metadata": {},
   "outputs": [
    {
     "data": {
      "application/vnd.jupyter.widget-view+json": {
       "model_id": "69f969fd7d6242d9babe55c5290469b1",
       "version_major": 2,
       "version_minor": 0
      },
      "text/plain": [
       "Canvas(toolbar=Toolbar(toolitems=[('Home', 'Reset original view', 'home', 'home'), ('Back', 'Back to previous …"
      ]
     },
     "metadata": {},
     "output_type": "display_data"
    },
    {
     "data": {
      "text/plain": [
       "[<matplotlib.lines.Line2D at 0x7f5507db8e10>]"
      ]
     },
     "execution_count": 31,
     "metadata": {},
     "output_type": "execute_result"
    }
   ],
   "source": [
    "overallConfirmed = [0 for k in keys]\n",
    "\n",
    "for key, values in confirmed.items():\n",
    "    for index, value in enumerate(values):\n",
    "        overallConfirmed[index] += int(value) \n",
    "\n",
    "plt.figure()\n",
    "plt.title(\"With China\")\n",
    "plt.ylabel(\"People\")\n",
    "plt.xlabel(\"Date\")\n",
    "plt.gcf().autofmt_xdate()\n",
    "#leg = plt.legend(ncol=3, mode=\"expand\", shadow=True, fancybox=True, bbox_to_anchor=(1.05, 1), loc='upper left', borderaxespad=0.)\n",
    "#leg.get_frame().set_alpha(0.5)\n",
    "\n",
    "plt.plot(keys, overallConfirmed)\n",
    "\n",
    "\n"
   ]
  },
  {
   "cell_type": "code",
   "execution_count": 32,
   "metadata": {},
   "outputs": [
    {
     "data": {
      "application/vnd.jupyter.widget-view+json": {
       "model_id": "2ee680ddb36747d982e530e7a2490506",
       "version_major": 2,
       "version_minor": 0
      },
      "text/plain": [
       "Canvas(toolbar=Toolbar(toolitems=[('Home', 'Reset original view', 'home', 'home'), ('Back', 'Back to previous …"
      ]
     },
     "metadata": {},
     "output_type": "display_data"
    },
    {
     "data": {
      "text/plain": [
       "[<matplotlib.lines.Line2D at 0x7f550774f9e8>]"
      ]
     },
     "execution_count": 32,
     "metadata": {},
     "output_type": "execute_result"
    }
   ],
   "source": [
    "confirmed2 = confirmed.copy()\n",
    "del confirmed2[\"China\"]\n",
    "\n",
    "overallConfirmed = [0 for k in keys]\n",
    "\n",
    "for key, values in confirmed2.items():\n",
    "    for index, value in enumerate(values):\n",
    "        overallConfirmed[index] += int(value) \n",
    "\n",
    "plt.figure()\n",
    "plt.title(\"Without China\")\n",
    "plt.ylabel(\"People\")\n",
    "plt.xlabel(\"Date\")\n",
    "plt.gcf().autofmt_xdate()\n",
    "#leg = plt.legend(ncol=3, mode=\"expand\", shadow=True, fancybox=True, bbox_to_anchor=(1.05, 1), loc='upper left', borderaxespad=0.)\n",
    "#leg.get_frame().set_alpha(0.5)\n",
    "\n",
    "plt.plot(keys, overallConfirmed)\n",
    "\n",
    "\n"
   ]
  },
  {
   "cell_type": "markdown",
   "metadata": {},
   "source": [
    "# Death and Recovered"
   ]
  },
  {
   "cell_type": "code",
   "execution_count": 33,
   "metadata": {},
   "outputs": [
    {
     "data": {
      "application/vnd.jupyter.widget-view+json": {
       "model_id": "b5a4fe3d8083404f908a6d379c9a59a5",
       "version_major": 2,
       "version_minor": 0
      },
      "text/plain": [
       "Canvas(toolbar=Toolbar(toolitems=[('Home', 'Reset original view', 'home', 'home'), ('Back', 'Back to previous …"
      ]
     },
     "metadata": {},
     "output_type": "display_data"
    }
   ],
   "source": [
    "overallDeath = [0 for k in keys]\n",
    "overallRecovered = [0 for k in keys]\n",
    "\n",
    "for key, values in death.items():\n",
    "    for index, value in enumerate(values):\n",
    "        overallDeath[index] += int(value) \n",
    "\n",
    "for key, values in recovered.items():\n",
    "    for index, value in enumerate(values):\n",
    "        overallRecovered[index] += int(value) \n",
    "\n",
    "plt.figure()\n",
    "plt.title(\"With China\")\n",
    "plt.ylabel(\"People\")\n",
    "plt.xlabel(\"Date\")\n",
    "plt.gcf().autofmt_xdate()\n",
    "\n",
    "plt.plot(keys, overallDeath, label=\"Death\")\n",
    "plt.plot(keys, overallRecovered, label=\"Recovered\")\n",
    "\n",
    "leg = plt.legend(ncol=1, mode=\"expand\", shadow=True, fancybox=True, loc='upper left')\n",
    "leg.get_frame().set_alpha(0.5)\n"
   ]
  },
  {
   "cell_type": "code",
   "execution_count": 34,
   "metadata": {},
   "outputs": [
    {
     "data": {
      "application/vnd.jupyter.widget-view+json": {
       "model_id": "c12cd63b07f7441ab38b4c495c8d4c31",
       "version_major": 2,
       "version_minor": 0
      },
      "text/plain": [
       "Canvas(toolbar=Toolbar(toolitems=[('Home', 'Reset original view', 'home', 'home'), ('Back', 'Back to previous …"
      ]
     },
     "metadata": {},
     "output_type": "display_data"
    }
   ],
   "source": [
    "overallDeath = [0 for k in keys]\n",
    "overallRecovered = [0 for k in keys]\n",
    "\n",
    "death2 = death.copy()\n",
    "recovered2 = recovered.copy()\n",
    "\n",
    "del death2[\"China\"]\n",
    "del recovered2[\"China\"]\n",
    "\n",
    "for key, values in death2.items():\n",
    "    for index, value in enumerate(values):\n",
    "        overallDeath[index] += int(value) \n",
    "\n",
    "for key, values in recovered2.items():\n",
    "    for index, value in enumerate(values):\n",
    "        overallRecovered[index] += int(value) \n",
    "\n",
    "plt.figure()\n",
    "plt.title(\"Without China\")\n",
    "plt.ylabel(\"People\")\n",
    "plt.xlabel(\"Date\")\n",
    "plt.gcf().autofmt_xdate()\n",
    "\n",
    "plt.plot(keys, overallDeath, label=\"Death\")\n",
    "plt.plot(keys, overallRecovered, label=\"Recovered\")\n",
    "\n",
    "\n",
    "leg = plt.legend(ncol=1, mode=\"expand\", shadow=True, fancybox=True, loc='upper left')\n",
    "leg.get_frame().set_alpha(0.5)\n",
    "\n",
    "\n"
   ]
  }
 ],
 "metadata": {
  "kernelspec": {
   "display_name": "Python 3",
   "language": "python",
   "name": "python3"
  },
  "language_info": {
   "codemirror_mode": {
    "name": "ipython",
    "version": 3
   },
   "file_extension": ".py",
   "mimetype": "text/x-python",
   "name": "python",
   "nbconvert_exporter": "python",
   "pygments_lexer": "ipython3",
   "version": "3.6.7"
  }
 },
 "nbformat": 4,
 "nbformat_minor": 4
}

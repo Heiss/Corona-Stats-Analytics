{
 "cells": [
  {
   "cell_type": "markdown",
   "metadata": {},
   "source": [
    "# Corona Stats\n",
    "\n",
    "In this hub, i want to try to analyse the statistics about corona and find out, where the different countries are in their infections."
   ]
  },
  {
   "cell_type": "code",
   "execution_count": 1,
   "metadata": {
    "jupyter": {
     "source_hidden": true
    }
   },
   "outputs": [
    {
     "data": {
      "application/vnd.jupyter.widget-view+json": {
       "model_id": "1556dab749a340c29652aa5f3efd8536",
       "version_major": 2,
       "version_minor": 0
      },
      "text/plain": [
       "Canvas(toolbar=Toolbar(toolitems=[('Home', 'Reset original view', 'home', 'home'), ('Back', 'Back to previous …"
      ]
     },
     "metadata": {},
     "output_type": "display_data"
    },
    {
     "data": {
      "application/vnd.jupyter.widget-view+json": {
       "model_id": "e466365a992f48c3b6a8a1497c294700",
       "version_major": 2,
       "version_minor": 0
      },
      "text/plain": [
       "Canvas(toolbar=Toolbar(toolitems=[('Home', 'Reset original view', 'home', 'home'), ('Back', 'Back to previous …"
      ]
     },
     "metadata": {},
     "output_type": "display_data"
    },
    {
     "data": {
      "application/vnd.jupyter.widget-view+json": {
       "model_id": "856b62dee0c74b7ab94e45e9b1b25af4",
       "version_major": 2,
       "version_minor": 0
      },
      "text/plain": [
       "Canvas(toolbar=Toolbar(toolitems=[('Home', 'Reset original view', 'home', 'home'), ('Back', 'Back to previous …"
      ]
     },
     "metadata": {},
     "output_type": "display_data"
    }
   ],
   "source": [
    "confirmedLink = \"https://raw.githubusercontent.com/CSSEGISandData/COVID-19/master/csse_covid_19_data/csse_covid_19_time_series/time_series_19-covid-Confirmed.csv\"\n",
    "deathLink = \"https://raw.githubusercontent.com/CSSEGISandData/COVID-19/master/csse_covid_19_data/csse_covid_19_time_series/time_series_19-covid-Deaths.csv\"\n",
    "recoveredLink = \"https://raw.githubusercontent.com/CSSEGISandData/COVID-19/master/csse_covid_19_data/csse_covid_19_time_series/time_series_19-covid-Recovered.csv\"\n",
    "\n",
    "%matplotlib widget\n",
    "\n",
    "import matplotlib.pyplot as plt\n",
    "import requests\n",
    "from io import StringIO\n",
    "import csv\n",
    "import itertools\n",
    "\n",
    "confirmedString = requests.get(confirmedLink).text\n",
    "deathString = requests.get(deathLink).text\n",
    "recoveredString = requests.get(recoveredLink).text\n",
    "\n",
    "confirmedReader = csv.DictReader((StringIO(confirmedString)))\n",
    "deathReader = csv.DictReader((StringIO(deathString)))\n",
    "recoveredReader = csv.DictReader((StringIO(recoveredString)))\n",
    "\n",
    "def addList(list1, list2):\n",
    "    list3 = []\n",
    "\n",
    "    for i in range(len(list1)):\n",
    "        list3.append(int(list1[i]) + int(list2[i]))\n",
    "\n",
    "    return list3\n",
    "\n",
    "def subtractList(list1, list2):\n",
    "    list3 = []\n",
    "\n",
    "    for i in range(len(list1)):\n",
    "        list3.append(int(list1[i]) - int(list2[i]))\n",
    "\n",
    "    return list3\n",
    "\n",
    "\n",
    "def addReader(dictionary, reader):\n",
    "    for row in reader:\n",
    "        try:\n",
    "            dictionary[list(row.values())[1]] = addList(dictionary[list(row.values())[1]], list(row.values())[5:])\n",
    "        except:\n",
    "            dictionary[list(row.values())[1]] = list(row.values())[5:]\n",
    "\n",
    "confirmed = {}\n",
    "death = {}\n",
    "recovered = {}\n",
    "\n",
    "addReader(confirmed, confirmedReader)\n",
    "addReader(death, deathReader)\n",
    "addReader(recovered, recoveredReader)\n",
    "        \n",
    "for row in deathReader:    \n",
    "    confirmed[list(row.values())[1]] = subtractList(confirmed[list(row.values())[1]], list(row.values())[5:])\n",
    "        \n",
    "for row in recoveredReader:    \n",
    "    confirmed[list(row.values())[1]] = subtractList(confirmed[list(row.values())[1]], list(row.values())[5:])\n",
    "\n",
    "keys = confirmedReader.fieldnames[5:]\n",
    "\n",
    "def plot(dictionary, title):\n",
    "\n",
    "\n",
    "    plt.figure()\n",
    "    values = {}\n",
    "    for key, value in dictionary.items():\n",
    "        values[key] = [float(val) for val in value]\n",
    "\n",
    "    for key, value in values.items():\n",
    "        plt.plot(keys, value, label=str(key))\n",
    "\n",
    "    plt.title(title)\n",
    "    plt.ylabel(\"People\")\n",
    "    plt.xlabel(\"Date\")\n",
    "    plt.gcf().autofmt_xdate()\n",
    "    #leg = plt.legend(ncol=3, mode=\"expand\", shadow=True, fancybox=True, bbox_to_anchor=(1.05, 1), loc='upper left', borderaxespad=0.)\n",
    "    #leg.get_frame().set_alpha(0.5)\n",
    "\n",
    "    #plt.show()\n",
    "\n",
    "plot(confirmed, \"confirmed\")\n",
    "plot(death, \"death\")\n",
    "plot(recovered, \"recovered\")\n"
   ]
  },
  {
   "cell_type": "markdown",
   "metadata": {},
   "source": [
    "# An overview over all confirmed patients\n",
    "confirmed patient := confirmed - death - recovered"
   ]
  },
  {
   "cell_type": "code",
   "execution_count": 2,
   "metadata": {
    "jupyter": {
     "source_hidden": true
    }
   },
   "outputs": [
    {
     "data": {
      "application/vnd.jupyter.widget-view+json": {
       "model_id": "89829476c3fc499d8ef1a67bbfb93433",
       "version_major": 2,
       "version_minor": 0
      },
      "text/plain": [
       "Canvas(toolbar=Toolbar(toolitems=[('Home', 'Reset original view', 'home', 'home'), ('Back', 'Back to previous …"
      ]
     },
     "metadata": {},
     "output_type": "display_data"
    },
    {
     "data": {
      "text/plain": [
       "[<matplotlib.lines.Line2D at 0x7f71272b46a0>]"
      ]
     },
     "execution_count": 2,
     "metadata": {},
     "output_type": "execute_result"
    }
   ],
   "source": [
    "import requests\n",
    "from io import StringIO\n",
    "import csv\n",
    "import itertools\n",
    "import matplotlib.pyplot as plt\n",
    "\n",
    "overallConfirmed = [0 for k in keys]\n",
    "\n",
    "for key, values in confirmed.items():\n",
    "    for index, value in enumerate(values):\n",
    "        overallConfirmed[index] += int(value) \n",
    "\n",
    "plt.figure()\n",
    "plt.title(\"With China\")\n",
    "plt.ylabel(\"People\")\n",
    "plt.xlabel(\"Date\")\n",
    "plt.gcf().autofmt_xdate()\n",
    "#leg = plt.legend(ncol=3, mode=\"expand\", shadow=True, fancybox=True, bbox_to_anchor=(1.05, 1), loc='upper left', borderaxespad=0.)\n",
    "#leg.get_frame().set_alpha(0.5)\n",
    "\n",
    "plt.plot(keys, overallConfirmed)\n",
    "\n",
    "\n"
   ]
  },
  {
   "cell_type": "code",
   "execution_count": 3,
   "metadata": {
    "jupyter": {
     "source_hidden": true
    }
   },
   "outputs": [
    {
     "data": {
      "application/vnd.jupyter.widget-view+json": {
       "model_id": "271d7f151a724ec7b84ab31dbac53590",
       "version_major": 2,
       "version_minor": 0
      },
      "text/plain": [
       "Canvas(toolbar=Toolbar(toolitems=[('Home', 'Reset original view', 'home', 'home'), ('Back', 'Back to previous …"
      ]
     },
     "metadata": {},
     "output_type": "display_data"
    },
    {
     "data": {
      "text/plain": [
       "[<matplotlib.lines.Line2D at 0x7f7127266518>]"
      ]
     },
     "execution_count": 3,
     "metadata": {},
     "output_type": "execute_result"
    }
   ],
   "source": [
    "confirmed2 = confirmed.copy()\n",
    "del confirmed2[\"China\"]\n",
    "\n",
    "overallConfirmed = [0 for k in keys]\n",
    "\n",
    "for key, values in confirmed2.items():\n",
    "    for index, value in enumerate(values):\n",
    "        overallConfirmed[index] += int(value) \n",
    "\n",
    "plt.figure()\n",
    "plt.title(\"Without China\")\n",
    "plt.ylabel(\"People\")\n",
    "plt.xlabel(\"Date\")\n",
    "plt.gcf().autofmt_xdate()\n",
    "#leg = plt.legend(ncol=3, mode=\"expand\", shadow=True, fancybox=True, bbox_to_anchor=(1.05, 1), loc='upper left', borderaxespad=0.)\n",
    "#leg.get_frame().set_alpha(0.5)\n",
    "\n",
    "plt.plot(keys, overallConfirmed)\n",
    "\n",
    "\n"
   ]
  },
  {
   "cell_type": "markdown",
   "metadata": {},
   "source": [
    "# Death and Recovered"
   ]
  },
  {
   "cell_type": "code",
   "execution_count": 17,
   "metadata": {
    "jupyter": {
     "source_hidden": true
    }
   },
   "outputs": [
    {
     "data": {
      "application/vnd.jupyter.widget-view+json": {
       "model_id": "f27b700a67fa4a919f3ee6371848ef3b",
       "version_major": 2,
       "version_minor": 0
      },
      "text/plain": [
       "Canvas(toolbar=Toolbar(toolitems=[('Home', 'Reset original view', 'home', 'home'), ('Back', 'Back to previous …"
      ]
     },
     "metadata": {},
     "output_type": "display_data"
    }
   ],
   "source": [
    "overallDeath = [0 for k in keys]\n",
    "overallRecovered = [0 for k in keys]\n",
    "\n",
    "for key, values in death.items():\n",
    "    for index, value in enumerate(values):\n",
    "        overallDeath[index] += int(value) \n",
    "\n",
    "for key, values in recovered.items():\n",
    "    for index, value in enumerate(values):\n",
    "        overallRecovered[index] += int(value) \n",
    "\n",
    "plt.figure()\n",
    "plt.title(\"With China\")\n",
    "plt.ylabel(\"People\")\n",
    "plt.xlabel(\"Date\")\n",
    "plt.gcf().autofmt_xdate()\n",
    "\n",
    "plt.plot(keys, overallDeath, label=\"Death\")\n",
    "plt.plot(keys, overallRecovered, label=\"Recovered\")\n",
    "\n",
    "leg = plt.legend(ncol=1, mode=\"expand\", shadow=True, fancybox=True, loc='best')\n",
    "leg.get_frame().set_alpha(0.5)\n"
   ]
  },
  {
   "cell_type": "code",
   "execution_count": 16,
   "metadata": {
    "jupyter": {
     "source_hidden": true
    }
   },
   "outputs": [
    {
     "data": {
      "application/vnd.jupyter.widget-view+json": {
       "model_id": "b225d575e4d842e2aa7aa6db5c494937",
       "version_major": 2,
       "version_minor": 0
      },
      "text/plain": [
       "Canvas(toolbar=Toolbar(toolitems=[('Home', 'Reset original view', 'home', 'home'), ('Back', 'Back to previous …"
      ]
     },
     "metadata": {},
     "output_type": "display_data"
    }
   ],
   "source": [
    "overallDeath = [0 for k in keys]\n",
    "overallRecovered = [0 for k in keys]\n",
    "\n",
    "death2 = death.copy()\n",
    "recovered2 = recovered.copy()\n",
    "\n",
    "del death2[\"China\"]\n",
    "del recovered2[\"China\"]\n",
    "\n",
    "for key, values in death.items():\n",
    "    for index, value in enumerate(values):\n",
    "        overallDeath[index] += int(value) \n",
    "\n",
    "for key, values in recovered.items():\n",
    "    for index, value in enumerate(values):\n",
    "        overallRecovered[index] += int(value) \n",
    "\n",
    "plt.figure()\n",
    "plt.title(\"Without China\")\n",
    "plt.ylabel(\"People\")\n",
    "plt.xlabel(\"Date\")\n",
    "plt.gcf().autofmt_xdate()\n",
    "#leg = plt.legend(ncol=3, mode=\"expand\", shadow=True, fancybox=True, bbox_to_anchor=(1.05, 1), loc='upper left', borderaxespad=0.)\n",
    "#leg.get_frame().set_alpha(0.5)\n",
    "\n",
    "plt.plot(keys, overallDeath, label=\"Death\")\n",
    "plt.plot(keys, overallRecovered, label=\"Recovered\")\n",
    "\n",
    "leg = plt.legend(ncol=1, mode=\"expand\", shadow=True, fancybox=True, loc='best')\n",
    "leg.get_frame().set_alpha(0.5)\n",
    "\n",
    "\n"
   ]
  }
 ],
 "metadata": {
  "kernelspec": {
   "display_name": "Python 3",
   "language": "python",
   "name": "python3"
  },
  "language_info": {
   "codemirror_mode": {
    "name": "ipython",
    "version": 3
   },
   "file_extension": ".py",
   "mimetype": "text/x-python",
   "name": "python",
   "nbconvert_exporter": "python",
   "pygments_lexer": "ipython3",
   "version": "3.6.7"
  }
 },
 "nbformat": 4,
 "nbformat_minor": 4
}
